{
 "cells": [
  {
   "cell_type": "code",
   "execution_count": 3,
   "metadata": {},
   "outputs": [],
   "source": [
    "import tweepy\n",
    "from textblob import TextBlob"
   ]
  },
  {
   "cell_type": "code",
   "execution_count": 36,
   "metadata": {},
   "outputs": [
    {
     "name": "stdout",
     "output_type": "stream",
     "text": [
      "Sentiment(polarity=0.0, subjectivity=0.0)\n",
      "Sentiment(polarity=0.0, subjectivity=0.0)\n",
      "Sentiment(polarity=-0.1, subjectivity=0.1)\n",
      "Sentiment(polarity=0.08333333333333333, subjectivity=0.19166666666666665)\n",
      "Sentiment(polarity=0.5, subjectivity=0.5)\n",
      "Sentiment(polarity=0.10000000000000002, subjectivity=0.3833333333333333)\n",
      "Sentiment(polarity=0.0, subjectivity=0.0)\n",
      "Sentiment(polarity=0.0, subjectivity=0.0)\n",
      "Sentiment(polarity=0.0, subjectivity=0.0)\n",
      "Sentiment(polarity=0.0, subjectivity=0.0)\n",
      "Sentiment(polarity=0.0, subjectivity=0.0)\n",
      "Sentiment(polarity=0.0, subjectivity=0.0)\n",
      "Sentiment(polarity=0.5, subjectivity=1.0)\n",
      "Sentiment(polarity=0.0, subjectivity=1.0)\n",
      "Sentiment(polarity=0.2, subjectivity=0.2)\n"
     ]
    }
   ],
   "source": [
    "consumer_key=\"ADD Consumer Key\"\n",
    "consumer_secret=\"Add Secret Key\"\n",
    "\n",
    "access_token=\"Add Access Token\"\n",
    "access_token_secret=\"Add Access Token Secret\"\n",
    "\n",
    "auth = tweepy.OAuthHandler(consumer_key, consumer_secret)\n",
    "auth.set_access_token(access_token, access_token_secret)\n",
    "\n",
    "api=tweepy.API(auth)\n",
    "\n",
    "public_tweets = api.search(\"Modi\")\n",
    "\n",
    "\n",
    "\n",
    "#with open(\"output.txt\", 'a') as the_file:\n",
    "#    for tweet in public_tweets:\n",
    "#        #print(tweet.text)\n",
    "#        analysis = TextBlob(tweet.text)\n",
    "#        print(analysis.sentiment)\n",
    "#        the_file.write(str(analysis.sentiment) + \"\\n\")\n"
   ]
  }
 ],
 "metadata": {
  "kernelspec": {
   "display_name": "Python 3",
   "language": "python",
   "name": "python3"
  },
  "language_info": {
   "codemirror_mode": {
    "name": "ipython",
    "version": 3
   },
   "file_extension": ".py",
   "mimetype": "text/x-python",
   "name": "python",
   "nbconvert_exporter": "python",
   "pygments_lexer": "ipython3",
   "version": "3.6.9"
  }
 },
 "nbformat": 4,
 "nbformat_minor": 2
}
